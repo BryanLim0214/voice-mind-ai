{
  "cells": [
    {
      "cell_type": "markdown",
      "metadata": {},
      "source": [
        "# Clinical Validation of Multi-Disorder Voice Screening Platform\n",
        "\n",
        "This notebook provides comprehensive clinical validation of the voice-based mental health screening platform, including performance metrics, ROC curves, and comparison with standardized clinical assessments.\n",
        "\n",
        "## Overview\n",
        "- **Objective**: Validate the accuracy and clinical utility of voice-based screening\n",
        "- **Disorders**: Depression, Anxiety, PTSD, Cognitive Decline\n",
        "- **Datasets**: Voiceome, DAIC-WOZ, Vocal Mind\n",
        "- **Validation Methods**: Cross-validation, clinical correlation, subgroup analysis\n"
      ]
    },
    {
      "cell_type": "code",
      "execution_count": null,
      "metadata": {},
      "outputs": [],
      "source": [
        "# Import required libraries\n",
        "import numpy as np\n",
        "import pandas as pd\n",
        "import matplotlib.pyplot as plt\n",
        "import seaborn as sns\n",
        "from pathlib import Path\n",
        "import warnings\n",
        "warnings.filterwarnings('ignore')\n",
        "\n",
        "# Machine learning and evaluation\n",
        "from sklearn.metrics import (\n",
        "    roc_auc_score, roc_curve, precision_recall_curve, auc,\n",
        "    confusion_matrix, classification_report, accuracy_score,\n",
        "    precision_score, recall_score, f1_score\n",
        ")\n",
        "from sklearn.model_selection import cross_val_score, StratifiedKFold\n",
        "from sklearn.preprocessing import LabelEncoder\n",
        "from sklearn.calibration import calibration_curve\n",
        "\n",
        "# Statistical analysis\n",
        "from scipy import stats\n",
        "from scipy.stats import pearsonr, spearmanr\n",
        "import scipy.stats as stats\n",
        "\n",
        "# Visualization\n",
        "import plotly.graph_objects as go\n",
        "import plotly.express as px\n",
        "from plotly.subplots import make_subplots\n",
        "\n",
        "# Set style\n",
        "plt.style.use('seaborn-v0_8')\n",
        "sns.set_palette(\"husl\")\n",
        "\n",
        "# Set random seed for reproducibility\n",
        "np.random.seed(42)\n",
        "\n",
        "print(\"Libraries imported successfully\")\n"
      ]
    },
    {
      "cell_type": "markdown",
      "metadata": {},
      "source": [
        "## 1. Data Loading and Preparation\n"
      ]
    },
    {
      "cell_type": "code",
      "execution_count": null,
      "metadata": {},
      "outputs": [],
      "source": [
        "# Load features and metadata\n",
        "features_path = \"../data/features/extracted_features.csv\"\n",
        "metadata_path = \"../data/processed/unified_metadata.csv\"\n",
        "\n",
        "if Path(features_path).exists():\n",
        "    features_df = pd.read_csv(features_path)\n",
        "    print(f\"Loaded features: {features_df.shape}\")\n",
        "else:\n",
        "    print(\"Features file not found. Creating sample data for demonstration.\")\n",
        "    # Create sample data for demonstration\n",
        "    n_samples = 200\n",
        "    n_features = 50\n",
        "    \n",
        "    # Generate sample features\n",
        "    feature_data = np.random.randn(n_samples, n_features)\n",
        "    feature_names = [f'feature_{i}' for i in range(n_features)]\n",
        "    \n",
        "    # Generate sample labels\n",
        "    disorders = ['depression', 'anxiety', 'ptsd', 'cognitive']\n",
        "    labels = {}\n",
        "    \n",
        "    for disorder in disorders:\n",
        "        if disorder == 'cognitive':\n",
        "            # 3 classes for cognitive\n",
        "            labels[f'{disorder}_label'] = np.random.choice(['normal', 'mild_impairment', 'moderate_impairment'], n_samples, p=[0.7, 0.25, 0.05])\n",
        "        else:\n",
        "            # 4 classes for other disorders\n",
        "            labels[f'{disorder}_label'] = np.random.choice(['none', 'mild', 'moderate', 'severe'], n_samples, p=[0.6, 0.25, 0.12, 0.03])\n",
        "    \n",
        "    # Create DataFrame\n",
        "    features_df = pd.DataFrame(feature_data, columns=feature_names)\n",
        "    features_df['participant_id'] = [f'P{i:03d}' for i in range(n_samples)]\n",
        "    features_df['age'] = np.random.randint(18, 80, n_samples)\n",
        "    features_df['gender'] = np.random.choice(['M', 'F'], n_samples)\n",
        "    features_df['dataset'] = np.random.choice(['voiceome', 'daic', 'vocal_mind'], n_samples, p=[0.6, 0.25, 0.15])\n",
        "    \n",
        "    # Add labels\n",
        "    for key, value in labels.items():\n",
        "        features_df[key] = value\n",
        "\n",
        "print(f\"Dataset shape: {features_df.shape}\")\n",
        "print(f\"Features: {features_df.columns.tolist()[:10]}...\")\n",
        "print(f\"Disorders: {[col for col in features_df.columns if 'label' in col]}\")\n"
      ]
    }
  ],
  "metadata": {
    "language_info": {
      "name": "python"
    }
  },
  "nbformat": 4,
  "nbformat_minor": 2
}
